{
 "cells": [
  {
   "cell_type": "code",
   "execution_count": 34,
   "metadata": {},
   "outputs": [],
   "source": [
    "# Choose the directory for annotations\n",
    "import json\n",
    "import os\n",
    "\n",
    "annotation_set = \"describe-bird-attributes-night2\"\n",
    "\n"
   ]
  },
  {
   "cell_type": "code",
   "execution_count": 35,
   "metadata": {},
   "outputs": [],
   "source": [
    "# Create list of all birds and their individual annotations\n",
    "# Structure: Nested dictionaries. key = Bird ID. Dictionary\n",
    "# contains bird name and annotations\n",
    "'''\n",
    "{\n",
    "    BirdID: {\n",
    "        Bird Filename\n",
    "        Labels []\n",
    "    }\n",
    "}\n",
    "'''\n",
    "annotations_dir = annotation_set + \"/annotations/consolidated-annotation/consolidation-request/iteration-1/\"\n",
    "\n",
    "directory = os.fsencode(annotations_dir)\n",
    "bird_annotations = {}\n",
    "\n",
    "for file in os.listdir(directory):\n",
    "    filename = annotations_dir + os.fsdecode(file)\n",
    "    with open(filename, \"r\") as f:\n",
    "        data = json.load(f)\n",
    "    f.close()\n",
    "    \n",
    "    for bird in data:\n",
    "        bird_annotations[bird[\"datasetObjectId\"]] = {}\n",
    "\n",
    "        curr_labels = {}\n",
    "        #32 = where file name starts\n",
    "        curr_labels[\"bird_filename\"] = bird[\"dataObject\"][\"s3Uri\"][32:] \n",
    "        curr_labels[\"labels\"] = []\n",
    "\n",
    "        for annotation in bird[\"annotations\"]:\n",
    "            # 36 = where label starts. -3 = cut off the last extra characters (\"}})\n",
    "            curr_labels[\"labels\"].append(annotation[\"annotationData\"][\"content\"][36:-3]) \n",
    "\n",
    "        bird_annotations[bird[\"datasetObjectId\"]] = curr_labels\n"
   ]
  },
  {
   "cell_type": "code",
   "execution_count": 36,
   "metadata": {},
   "outputs": [],
   "source": [
    "# Add confidence score and aggregate label\n",
    "annotations_dir = annotation_set + \"/annotations/consolidated-annotation/consolidation-response/iteration-1/\"\n",
    "\n",
    "directory = os.fsencode(annotations_dir)\n",
    "for file in os.listdir(directory):\n",
    "    filename = annotations_dir + os.fsdecode(file)\n",
    "    with open(filename, \"r\") as f:\n",
    "        data = json.load(f)\n",
    "    f.close()\n",
    "    \n",
    "    for bird in data:\n",
    "        bird_annotations[bird[\"datasetObjectId\"]][\"aggregated_label\"] = bird[\"consolidatedAnnotation\"][\"content\"][annotation_set + \"-metadata\"][\"class-name\"]\n",
    "        bird_annotations[bird[\"datasetObjectId\"]][\"confidence\"] = bird[\"consolidatedAnnotation\"][\"content\"][annotation_set + \"-metadata\"][\"confidence\"]"
   ]
  },
  {
   "cell_type": "code",
   "execution_count": 37,
   "metadata": {},
   "outputs": [
    {
     "name": "stdout",
     "output_type": "stream",
     "text": [
      "[11.0, 6.0, 40.0, 42.0, 116.0, 32.0, 6.0, 48.0, 54.0, 45.0, 9.0, 39.0, 11.0, 42.0, 112.0, 22.0, 10.0, 34.0, 77.0, 99.0, 23.0, 21.0, 19.0, 60.0, 24.0, 8.0, 26.0, 81.0, 91.0, 15.0, 20.0, 62.0, 42.0, 37.0, 104.0, 32.0, 18.0, 96.0, 53.0, 102.0, 39.0, 9.0, 13.0, 13.0, 56.0, 25.0, 10.0, 45.0, 13.0, 67.0, 8.0, 10.0, 15.0, 45.0, 117.0, 40.0, 36.0, 8.0, 39.0, 45.0, 10.0, 20.0, 110.0, 70.0, 91.0, 11.0, 79.0, 47.0, 99.0, 51.0, 14.0, 27.0, 45.0, 87.0, 17.0, 40.0, 60.0, 47.0, 21.0, 29.0, 24.0, 11.0, 19.0, 23.0, 23.0, 6.0, 40.0, 76.0, 91.0, 68.0, 7.0, 11.0, 25.0, 71.0, 47.0, 9.0, 61.0, 34.0, 18.0, 105.0, 57.0, 25.0, 32.0, 23.0, 108.0, 35.0, 12.0, 22.0, 16.0, 57.0, 15.0, 9.0, 32.0, 28.0, 9.0, 24.0, 63.0, 25.0, 73.0, 117.0, 6.0, 7.0, 53.0, 100.0, 72.0, 25.0, 59.0, 108.0, 66.0, 113.0, 9.0, 20.0, 9.0, 22.0, 24.0, 55.0, 17.0, 36.0, 64.0, 75.0, 53.0, 64.0, 27.0, 101.0, 29.0, 42.0, 16.0, 58.0, 49.0, 115.0, 44.0, 68.0, 60.0, 74.0, 93.0, 35.0, 25.0, 99.0, 80.0, 23.0, 22.0, 99.0, 57.0, 22.0, 16.0, 21.0, 49.0, 92.0, 113.0, 67.0, 49.0, 8.0, 54.0, 61.0, 20.0, 18.0, 50.0, 77.0, 48.0, 110.0, 36.0, 79.0, 103.0, 55.0, 46.0, 24.0, 9.0, 15.0, 105.0, 80.0, 17.0, 20.0, 12.0, 66.0, 31.0, 33.0, 41.0, 45.0, 86.0, 109.0, 28.0, 7.0, 62.0, 28.0, 13.0, 6.0, 17.0, 63.0, 12.0, 114.0, 53.0, 42.0, 59.0, 99.0, 19.0, 16.0, 21.0, 76.0, 90.0, 42.0, 17.0, 9.0, 23.0, 28.0, 50.0, 7.0, 15.0, 24.0, 37.0, 74.0, 24.0, 33.0, 106.0, 75.0, 102.0, 25.0, 33.0, 7.0, 105.0, 21.0, 18.0, 76.0, 67.0, 19.0, 88.0, 21.0, 23.0, 106.0, 104.0, 66.0, 9.0, 65.0, 68.0, 108.0, 83.0, 17.0, 61.0, 80.0, 41.0, 98.0, 39.0, 53.0, 13.0, 27.0, 66.0, 47.0, 14.0, 18.0, 38.0, 112.0, 11.0, 15.0, 48.0, 65.0, 103.0, 19.0, 11.0, 62.0, 54.0, 41.0, 32.0, 42.0, 86.0, 69.0, 63.0, 22.0, 25.0, 58.0, 17.0, 19.0, 26.0, 30.0, 36.0, 10.0, 115.0, 29.0, 71.0, 46.0, 46.0, 116.0]\n"
     ]
    }
   ],
   "source": [
    "# Add average time per annotation\n",
    "annotations_dir = annotation_set + \"/annotations/worker-response/iteration-1/\"\n",
    "\n",
    "time_spent = []\n",
    "for bird_id in os.listdir(annotations_dir):\n",
    "    bird_path = annotations_dir + bird_id + \"/\"\n",
    "    for file in os.listdir(bird_path):       \n",
    "        filename = bird_path + os.fsdecode(file)\n",
    "        with open(filename, \"r\") as f:\n",
    "            data = json.load(f)\n",
    "        f.close()\n",
    "        \n",
    "        sum = 0\n",
    "        count = 0\n",
    "        for answer in data[\"answers\"]:\n",
    "            time_spent.append(answer[\"timeSpentInSeconds\"])\n",
    "            sum += answer[\"timeSpentInSeconds\"]\n",
    "            count += 1.0\n",
    "        \n",
    "        bird_annotations[bird_id][\"avg_time\"] = sum / count\n",
    "print(time_spent)"
   ]
  },
  {
   "cell_type": "code",
   "execution_count": 38,
   "metadata": {
    "scrolled": true
   },
   "outputs": [
    {
     "ename": "ModuleNotFoundError",
     "evalue": "No module named 'natsort'",
     "output_type": "error",
     "traceback": [
      "\u001b[1;31m---------------------------------------------------------------------------\u001b[0m",
      "\u001b[1;31mModuleNotFoundError\u001b[0m                       Traceback (most recent call last)",
      "\u001b[1;32m<ipython-input-38-1ca040a431d7>\u001b[0m in \u001b[0;36m<module>\u001b[1;34m\u001b[0m\n\u001b[0;32m      1\u001b[0m \u001b[1;31m# View the bird annotations in numerical order\u001b[0m\u001b[1;33m\u001b[0m\u001b[1;33m\u001b[0m\u001b[1;33m\u001b[0m\u001b[0m\n\u001b[1;32m----> 2\u001b[1;33m \u001b[1;32mfrom\u001b[0m \u001b[0mnatsort\u001b[0m \u001b[1;32mimport\u001b[0m \u001b[0mnatsorted\u001b[0m\u001b[1;33m\u001b[0m\u001b[1;33m\u001b[0m\u001b[0m\n\u001b[0m\u001b[0;32m      3\u001b[0m \u001b[0mdict\u001b[0m\u001b[1;33m(\u001b[0m\u001b[0mnatsorted\u001b[0m\u001b[1;33m(\u001b[0m\u001b[0mbird_annotations\u001b[0m\u001b[1;33m.\u001b[0m\u001b[0mitems\u001b[0m\u001b[1;33m(\u001b[0m\u001b[1;33m)\u001b[0m\u001b[1;33m)\u001b[0m\u001b[1;33m)\u001b[0m\u001b[1;33m\u001b[0m\u001b[1;33m\u001b[0m\u001b[0m\n",
      "\u001b[1;31mModuleNotFoundError\u001b[0m: No module named 'natsort'"
     ]
    }
   ],
   "source": [
    "# View the bird annotations in numerical order\n",
    "from natsort import natsorted\n",
    "dict(natsorted(bird_annotations.items()))"
   ]
  },
  {
   "cell_type": "code",
   "execution_count": 39,
   "metadata": {
    "scrolled": true
   },
   "outputs": [
    {
     "data": {
      "image/png": "[encoded data removed]",
      "text/plain": [
       "<Figure size 432x288 with 1 Axes>"
      ]
     },
     "metadata": {
      "needs_background": "light"
     },
     "output_type": "display_data"
    }
   ],
   "source": [
    "# Adding box and whisker plot for Sagemaker annotations\n",
    "import matplotlib.pyplot as plt\n",
    "plt.boxplot(time_spent, vert=False, showmeans=True,)\n",
    "plt.title(\"SageMaker Ground Truth: \\n Time Taken to Annotate a Single Image\")\n",
    "plt.xlabel(\"Time per Image (in seconds)\")\n",
    "plt.ylabel(\"Morning Annotations\")\n",
    "\n",
    "plt.show()"
   ]
  },
  {
   "cell_type": "code",
   "execution_count": 40,
   "metadata": {},
   "outputs": [
    {
     "data": {
      "text/plain": [
       "46.14"
      ]
     },
     "execution_count": 40,
     "metadata": {},
     "output_type": "execute_result"
    }
   ],
   "source": [
    "import statistics\n",
    "statistics.mean(time_spent)"
   ]
  },
  {
   "cell_type": "code",
   "execution_count": 41,
   "metadata": {},
   "outputs": [
    {
     "name": "stdout",
     "output_type": "stream",
     "text": [
      "{'bird_filename': 'American_Goldfinch_0022_32111.jpg', 'labels': ['Striped', 'Striped', 'Multi-Colored', 'Solid', 'Striped'], 'aggregated_label': 'Striped', 'confidence': 0.95, 'avg_time': 43.0}\n"
     ]
    }
   ],
   "source": [
    "print(bird_annotations['0'])"
   ]
  },
  {
   "cell_type": "code",
   "execution_count": 42,
   "metadata": {},
   "outputs": [
    {
     "name": "stdout",
     "output_type": "stream",
     "text": [
      "{'American_Goldfinch': {'Solid': 1, 'Striped': 4, 'Spotted': 3, 'Multi-Colored': 7}, 'Cardinal': {'Solid': 7, 'Striped': 2, 'Spotted': 3, 'Multi-Colored': 3}, 'Cerulean_Warbler': {'Solid': 1, 'Striped': 9, 'Spotted': 3, 'Multi-Colored': 2}, 'Chuck_Will_Widow': {'Solid': 0, 'Striped': 2, 'Spotted': 10, 'Multi-Colored': 3}, 'Clay_Colored_Sparrow': {'Solid': 1, 'Striped': 6, 'Spotted': 8, 'Multi-Colored': 0}, 'Green_Kingfisher': {'Solid': 2, 'Striped': 3, 'Spotted': 8, 'Multi-Colored': 2}, 'Hooded_Oriole': {'Solid': 2, 'Striped': 5, 'Spotted': 0, 'Multi-Colored': 8}, 'Least_Auklet': {'Solid': 1, 'Striped': 1, 'Spotted': 11, 'Multi-Colored': 2}, 'Blue_Grosbeak': {'Solid': 0, 'Striped': 6, 'Spotted': 3, 'Multi-Colored': 6}, 'Northern_Waterthrush': {'Solid': 4, 'Striped': 6, 'Spotted': 5, 'Multi-Colored': 0}, 'Palm_Warbler': {'Solid': 3, 'Striped': 4, 'Spotted': 6, 'Multi-Colored': 2}, 'Pileated_Woodpecker': {'Solid': 4, 'Striped': 1, 'Spotted': 8, 'Multi-Colored': 2}, 'Purple_Finch': {'Solid': 3, 'Striped': 6, 'Spotted': 2, 'Multi-Colored': 4}, 'Red_Headed_Woodpecker': {'Solid': 2, 'Striped': 0, 'Spotted': 4, 'Multi-Colored': 9}, 'Song_Sparrow': {'Solid': 2, 'Striped': 2, 'Spotted': 7, 'Multi-Colored': 4}, 'Swainson_Warbler': {'Solid': 3, 'Striped': 5, 'Spotted': 5, 'Multi-Colored': 2}, 'Tree_Sparrow': {'Solid': 2, 'Striped': 5, 'Spotted': 6, 'Multi-Colored': 2}, 'White_Necked_Raven': {'Solid': 7, 'Striped': 1, 'Spotted': 7, 'Multi-Colored': 0}, 'Yellow_Headed_Blackbird': {'Solid': 4, 'Striped': 1, 'Spotted': 5, 'Multi-Colored': 5}, 'Bohemian_Waxwing': {'Solid': 3, 'Striped': 1, 'Spotted': 6, 'Multi-Colored': 5}}\n"
     ]
    }
   ],
   "source": [
    "import re\n",
    "pattern = r'_\\d+_\\d+.jpg'\n",
    "species_stats = {}\n",
    "for bird in sorted(bird_annotations.items()):\n",
    "    data = bird[1]\n",
    "    species_name = re.sub(pattern, '', data['bird_filename'])\n",
    "    #print(species_name)\n",
    "    if species_name not in species_stats:\n",
    "        species_stats[species_name] = {'Solid': 0, 'Striped': 0, 'Spotted': 0, 'Multi-Colored': 0}\n",
    "    for label in data['labels']:\n",
    "        species_stats[species_name][label] += 1\n",
    "print(species_stats)\n"
   ]
  },
  {
   "cell_type": "code",
   "execution_count": 43,
   "metadata": {},
   "outputs": [
    {
     "name": "stdout",
     "output_type": "stream",
     "text": [
      "American_Goldfinch: Solid 6.67% | Spotted 20.0% | Striped 26.67% | Multi 46.67% \n",
      "\n",
      "Cardinal: Solid 46.67% | Spotted 20.0% | Striped 13.33% | Multi 20.0% \n",
      "\n",
      "Cerulean_Warbler: Solid 6.67% | Spotted 20.0% | Striped 60.0% | Multi 13.33% \n",
      "\n",
      "Chuck_Will_Widow: Solid 0.0% | Spotted 66.67% | Striped 13.33% | Multi 20.0% \n",
      "\n",
      "Clay_Colored_Sparrow: Solid 6.67% | Spotted 53.33% | Striped 40.0% | Multi 0.0% \n",
      "\n",
      "Green_Kingfisher: Solid 13.33% | Spotted 53.33% | Striped 20.0% | Multi 13.33% \n",
      "\n",
      "Hooded_Oriole: Solid 13.33% | Spotted 0.0% | Striped 33.33% | Multi 53.33% \n",
      "\n",
      "Least_Auklet: Solid 6.67% | Spotted 73.33% | Striped 6.67% | Multi 13.33% \n",
      "\n",
      "Blue_Grosbeak: Solid 0.0% | Spotted 20.0% | Striped 40.0% | Multi 40.0% \n",
      "\n",
      "Northern_Waterthrush: Solid 26.67% | Spotted 33.33% | Striped 40.0% | Multi 0.0% \n",
      "\n",
      "Palm_Warbler: Solid 20.0% | Spotted 40.0% | Striped 26.67% | Multi 13.33% \n",
      "\n",
      "Pileated_Woodpecker: Solid 26.67% | Spotted 53.33% | Striped 6.67% | Multi 13.33% \n",
      "\n",
      "Purple_Finch: Solid 20.0% | Spotted 13.33% | Striped 40.0% | Multi 26.67% \n",
      "\n",
      "Red_Headed_Woodpecker: Solid 13.33% | Spotted 26.67% | Striped 0.0% | Multi 60.0% \n",
      "\n",
      "Song_Sparrow: Solid 13.33% | Spotted 46.67% | Striped 13.33% | Multi 26.67% \n",
      "\n",
      "Swainson_Warbler: Solid 20.0% | Spotted 33.33% | Striped 33.33% | Multi 13.33% \n",
      "\n",
      "Tree_Sparrow: Solid 13.33% | Spotted 40.0% | Striped 33.33% | Multi 13.33% \n",
      "\n",
      "White_Necked_Raven: Solid 46.67% | Spotted 46.67% | Striped 6.67% | Multi 0.0% \n",
      "\n",
      "Yellow_Headed_Blackbird: Solid 26.67% | Spotted 33.33% | Striped 6.67% | Multi 33.33% \n",
      "\n",
      "Bohemian_Waxwing: Solid 20.0% | Spotted 40.0% | Striped 6.67% | Multi 33.33% \n",
      "\n"
     ]
    }
   ],
   "source": [
    "total = 15 # num images per species\n",
    "for bird in species_stats.items():\n",
    "    #print(bird[1])\n",
    "    print('{}: Solid {}% | Spotted {}% | Striped {}% | Multi {}% \\n'.format(\n",
    "        bird[0],\n",
    "        round(bird[1]['Solid'] / total * 100, 2),\n",
    "        round(bird[1]['Spotted'] / total * 100,2),\n",
    "        round(bird[1]['Striped'] / total * 100, 2),\n",
    "        round(bird[1]['Multi-Colored'] / total * 100, 2)))"
   ]
  },
  {
   "cell_type": "code",
   "execution_count": null,
   "metadata": {},
   "outputs": [],
   "source": []
  }
 ],
 "metadata": {
  "kernelspec": {
   "display_name": "Python 3",
   "language": "python",
   "name": "python3"
  },
  "language_info": {
   "codemirror_mode": {
    "name": "ipython",
    "version": 3
   },
   "file_extension": ".py",
   "mimetype": "text/x-python",
   "name": "python",
   "nbconvert_exporter": "python",
   "pygments_lexer": "ipython3",
   "version": "3.8.5"
  }
 },
 "nbformat": 4,
 "nbformat_minor": 5
}
