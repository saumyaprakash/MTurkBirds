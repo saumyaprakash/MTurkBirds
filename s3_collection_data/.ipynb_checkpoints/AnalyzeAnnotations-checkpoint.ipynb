{
 "cells": [
  {
   "cell_type": "code",
   "execution_count": 36,
   "id": "3e96fb3e",
   "metadata": {},
   "outputs": [],
   "source": [
    "# Choose the directory for annotations\n",
    "import json\n",
    "import os\n",
    "\n",
    "annotation_set = \"describe-bird-attributes-2\"\n",
    "\n"
   ]
  },
  {
   "cell_type": "code",
   "execution_count": 38,
   "id": "125a36cb",
   "metadata": {},
   "outputs": [],
   "source": [
    "# Create list of all birds and their individual annotations\n",
    "# Structure: Nested dictionaries. key = Bird ID. Dictionary\n",
    "# contains bird name and annotations\n",
    "'''\n",
    "{\n",
    "    BirdID: {\n",
    "        Bird Filename\n",
    "        Labels []\n",
    "    }\n",
    "}\n",
    "'''\n",
    "annotations_dir = annotation_set + \"/annotations/consolidated-annotation/consolidation-request/iteration-1/\"\n",
    "\n",
    "directory = os.fsencode(annotations_dir)\n",
    "bird_annotations = {}\n",
    "\n",
    "for file in os.listdir(directory):\n",
    "    filename = annotations_dir + os.fsdecode(file)\n",
    "    with open(filename, \"r\") as f:\n",
    "        data = json.load(f)\n",
    "    f.close()\n",
    "    \n",
    "    for bird in data:\n",
    "        bird_annotations[bird[\"datasetObjectId\"]] = {}\n",
    "\n",
    "        curr_labels = {}\n",
    "        #32 = where file name starts\n",
    "        curr_labels[\"bird_filename\"] = bird[\"dataObject\"][\"s3Uri\"][32:] \n",
    "        curr_labels[\"labels\"] = []\n",
    "\n",
    "        for annotation in bird[\"annotations\"]:\n",
    "            # 36 = where label starts. -3 = cut off the last extra characters (\"}})\n",
    "            curr_labels[\"labels\"].append(annotation[\"annotationData\"][\"content\"][36:-3]) \n",
    "\n",
    "        bird_annotations[bird[\"datasetObjectId\"]] = curr_labels\n"
   ]
  },
  {
   "cell_type": "code",
   "execution_count": 45,
   "id": "ea18710b",
   "metadata": {},
   "outputs": [],
   "source": [
    "# Add confidence score and aggregate label\n",
    "annotations_dir = annotation_set + \"/annotations/consolidated-annotation/consolidation-response/iteration-1/\"\n",
    "\n",
    "directory = os.fsencode(annotations_dir)\n",
    "for file in os.listdir(directory):\n",
    "    filename = annotations_dir + os.fsdecode(file)\n",
    "    with open(filename, \"r\") as f:\n",
    "        data = json.load(f)\n",
    "    f.close()\n",
    "    \n",
    "    for bird in data:\n",
    "        bird_annotations[bird[\"datasetObjectId\"]][\"aggregated_label\"] = bird[\"consolidatedAnnotation\"][\"content\"][annotation_set + \"-metadata\"][\"class-name\"]\n",
    "        bird_annotations[bird[\"datasetObjectId\"]][\"confidence\"] = bird[\"consolidatedAnnotation\"][\"content\"][annotation_set + \"-metadata\"][\"confidence\"]"
   ]
  },
  {
   "cell_type": "code",
   "execution_count": 66,
   "id": "a461fcb5",
   "metadata": {},
   "outputs": [
    {
     "name": "stdout",
     "output_type": "stream",
     "text": [
      "[51.0, 133.0, 215.0, 44.0, 93.0, 120.0, 199.0, 246.0, 151.0, 12.0, 232.0, 15.0, 68.0, 116.0, 220.0, 8.0, 27.0, 41.0, 207.0, 242.0, 273.0, 10.0, 11.0, 129.0, 33.0, 49.0, 110.0, 33.0, 136.0, 238.0, 78.0, 296.0, 60.0, 41.0, 88.0, 113.0, 52.0, 237.0, 77.0, 27.0, 139.0, 251.0, 10.0, 124.0, 194.0, 26.0, 58.0, 83.0]\n"
     ]
    }
   ],
   "source": [
    "# Add average time per annotation\n",
    "annotations_dir = annotation_set + \"/annotations/worker-response/iteration-1/\"\n",
    "\n",
    "time_spent = []\n",
    "for bird_id in os.listdir(annotations_dir):\n",
    "    bird_path = annotations_dir + bird_id + \"/\"\n",
    "    for file in os.listdir(bird_path):       \n",
    "        filename = bird_path + os.fsdecode(file)\n",
    "        with open(filename, \"r\") as f:\n",
    "            data = json.load(f)\n",
    "        f.close()\n",
    "        \n",
    "        sum = 0\n",
    "        count = 0\n",
    "        for answer in data[\"answers\"]:\n",
    "            time_spent.append(answer[\"timeSpentInSeconds\"])\n",
    "            sum += answer[\"timeSpentInSeconds\"]\n",
    "            count += 1.0\n",
    "        \n",
    "        bird_annotations[bird_id][\"avg_time\"] = sum / count\n"
   ]
  },
  {
   "cell_type": "code",
   "execution_count": 67,
   "id": "27b7c1ed",
   "metadata": {
    "scrolled": true
   },
   "outputs": [
    {
     "data": {
      "text/plain": [
       "{'0': {'bird_filename': 'American_Goldfinch_0022_32111.jpg',\n",
       "  'labels': ['Multi-colored', 'Spotted', 'Multi-colored'],\n",
       "  'aggregated_label': 'Spotted',\n",
       "  'confidence': 0.69,\n",
       "  'avg_time': 133.0},\n",
       " '1': {'bird_filename': 'Blue_Grosbeak_0066_36632.jpg',\n",
       "  'labels': ['Multi-colored', 'Striped', 'Spotted'],\n",
       "  'aggregated_label': 'Solid',\n",
       "  'confidence': 0.45,\n",
       "  'avg_time': 85.66666666666667},\n",
       " '2': {'bird_filename': 'Bohemian_Waxwing_0024_177661.jpg',\n",
       "  'labels': ['Multi-colored', 'Solid', 'Spotted'],\n",
       "  'aggregated_label': 'Spotted',\n",
       "  'confidence': 0.55,\n",
       "  'avg_time': 64.0},\n",
       " '3': {'bird_filename': 'Cardinal_0092_17591.jpg',\n",
       "  'labels': ['Solid', 'Spotted', 'Spotted'],\n",
       "  'aggregated_label': 'Spotted',\n",
       "  'confidence': 0.69,\n",
       "  'avg_time': 135.66666666666666},\n",
       " '4': {'bird_filename': 'Cerulean_Warbler_0002_797219.jpg',\n",
       "  'labels': ['Spotted', 'Striped', 'Solid'],\n",
       "  'aggregated_label': 'Solid',\n",
       "  'confidence': 0.34,\n",
       "  'avg_time': 144.66666666666666},\n",
       " '5': {'bird_filename': 'Green_Kingfisher_0046_71178.jpg',\n",
       "  'labels': ['Spotted', 'Spotted', 'Spotted'],\n",
       "  'aggregated_label': 'Spotted',\n",
       "  'confidence': 0.9,\n",
       "  'avg_time': 80.66666666666667},\n",
       " '6': {'bird_filename': 'Hooded_Oriole_0127_90200.jpg',\n",
       "  'labels': ['Spotted', 'Multi-colored', 'Multi-colored'],\n",
       "  'aggregated_label': 'Multi-colored',\n",
       "  'confidence': 0.81,\n",
       "  'avg_time': 122.0},\n",
       " '7': {'bird_filename': 'Least_Auklet_0014_1901.jpg',\n",
       "  'labels': ['Spotted', 'Spotted', 'Spotted'],\n",
       "  'aggregated_label': 'Spotted',\n",
       "  'confidence': 0.69,\n",
       "  'avg_time': 139.0},\n",
       " '8': {'bird_filename': 'Palm_Warbler_0093_170499.jpg',\n",
       "  'labels': ['Solid', 'Spotted', 'Solid'],\n",
       "  'aggregated_label': 'Spotted',\n",
       "  'confidence': 0.55,\n",
       "  'avg_time': 109.33333333333333},\n",
       " '9': {'bird_filename': 'Pileated_Woodpecker_0033_180179.jpg',\n",
       "  'labels': ['Solid', 'Spotted', 'Spotted'],\n",
       "  'aggregated_label': 'Spotted',\n",
       "  'confidence': 0.81,\n",
       "  'avg_time': 55.666666666666664},\n",
       " '10': {'bird_filename': 'Purple_Finch_0036_27641.jpg',\n",
       "  'labels': ['Spotted', 'Solid', 'Spotted'],\n",
       "  'aggregated_label': 'Spotted',\n",
       "  'confidence': 0.81,\n",
       "  'avg_time': 198.66666666666666},\n",
       " '11': {'bird_filename': 'Song_Sparrow_0118_121905.jpg',\n",
       "  'labels': ['Spotted', 'Striped', 'Striped'],\n",
       "  'aggregated_label': 'Striped',\n",
       "  'confidence': 0.81,\n",
       "  'avg_time': 86.33333333333333},\n",
       " '12': {'bird_filename': 'Swainson_Warbler_0026_794884.jpg',\n",
       "  'labels': ['Solid', 'Spotted', 'Solid'],\n",
       "  'aggregated_label': 'Solid',\n",
       "  'confidence': 0.95,\n",
       "  'avg_time': 134.66666666666666},\n",
       " '13': {'bird_filename': 'Tree_Sparrow_0108_124754.jpg',\n",
       "  'labels': ['Multi-colored', 'Striped', 'Striped'],\n",
       "  'aggregated_label': 'Striped',\n",
       "  'confidence': 0.81,\n",
       "  'avg_time': 25.333333333333332},\n",
       " '14': {'bird_filename': 'White_Necked_Raven_0055_797352.jpg',\n",
       "  'labels': ['Solid', 'Solid', 'Solid'],\n",
       "  'aggregated_label': 'Solid',\n",
       "  'confidence': 0.95,\n",
       "  'avg_time': 240.66666666666666},\n",
       " '15': {'bird_filename': 'Yellow_Headed_Blackbird_0041_8264.jpg',\n",
       "  'labels': ['Spotted', 'Solid', 'Spotted'],\n",
       "  'aggregated_label': 'Spotted',\n",
       "  'confidence': 0.55,\n",
       "  'avg_time': 50.0}}"
      ]
     },
     "execution_count": 67,
     "metadata": {},
     "output_type": "execute_result"
    }
   ],
   "source": [
    "# View the bird annotations in numerical order\n",
    "from natsort import natsorted\n",
    "dict(natsorted(bird_annotations.items()))"
   ]
  },
  {
   "cell_type": "code",
   "execution_count": 88,
   "id": "e4fcad52",
   "metadata": {},
   "outputs": [
    {
     "data": {
      "image/png": "[encoded data removed]",
      "text/plain": [
       "<Figure size 432x288 with 1 Axes>"
      ]
     },
     "metadata": {
      "needs_background": "light"
     },
     "output_type": "display_data"
    }
   ],
   "source": [
    "# Adding box and whisker plot for Sagemaker annotations\n",
    "import matplotlib.pyplot as plt\n",
    "plt.boxplot(time_spent, vert=False, showmeans=True,)\n",
    "plt.title(\"SageMaker Ground Truth: \\n Time Taken to Annotate a Single Image\")\n",
    "plt.xlabel(\"Time per Image (in seconds)\")\n",
    "plt.ylabel(\"SageMaker Ground Truth Workers\")\n",
    "\n",
    "plt.show()"
   ]
  }
 ],
 "metadata": {
  "kernelspec": {
   "display_name": "Python 3 (ipykernel)",
   "language": "python",
   "name": "python3"
  },
  "language_info": {
   "codemirror_mode": {
    "name": "ipython",
    "version": 3
   },
   "file_extension": ".py",
   "mimetype": "text/x-python",
   "name": "python",
   "nbconvert_exporter": "python",
   "pygments_lexer": "ipython3",
   "version": "3.10.1"
  }
 },
 "nbformat": 4,
 "nbformat_minor": 5
}
